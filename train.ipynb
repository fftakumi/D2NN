{
 "cells": [
  {
   "cell_type": "code",
   "execution_count": null,
   "outputs": [],
   "source": [
    "#------------------------\n",
    "# Google Colab上でのみ実行\n",
    "#------------------------\n",
    "import time\n",
    "!git clone https://github.com/konnitiha3/D2NN.git\n",
    "\n",
    "import sys\n",
    "sys.path.append('/content/D2NN')\n",
    "\n",
    "from google.colab import drive\n",
    "drive.mount('/content/drive')"
   ],
   "metadata": {
    "collapsed": false,
    "pycharm": {
     "name": "#%%\n"
    }
   }
  },
  {
   "cell_type": "code",
   "execution_count": 1,
   "outputs": [
    {
     "name": "stdout",
     "output_type": "stream",
     "text": [
      "TensorFlow: 2.8.0\n",
      "Python: 3.8.11 (default, Aug 16 2021, 12:04:33) \n",
      "[Clang 12.0.0 ]\n"
     ]
    }
   ],
   "source": [
    "import time\n",
    "import os\n",
    "import tensorflow as tf\n",
    "from tensorflow import keras\n",
    "import numpy as np\n",
    "import matplotlib.pyplot as plt\n",
    "import sys\n",
    "import pandas as pd\n",
    "from module.one_dim.layers import *\n",
    "\n",
    "tf.random.set_seed(1)\n",
    "\n",
    "print(\"TensorFlow:\", tf.__version__)\n",
    "print(\"Python:\", sys.version)\n",
    "\n",
    "plt.rcParams['font.size'] = 18"
   ],
   "metadata": {
    "collapsed": false,
    "pycharm": {
     "name": "#%%\n"
    }
   }
  },
  {
   "cell_type": "code",
   "execution_count": 25,
   "outputs": [],
   "source": [
    "class Modulation(tf.keras.layers.Layer):\n",
    "    def __init__(self, limitation=None, phi_max=0.0):\n",
    "        super(Modulation, self).__init__()\n",
    "        if limitation is not None:\n",
    "            self.limitation = tf.Variable(limitation, validate_shape=False, name=\"limitation\", trainable=False)\n",
    "            self.limitation = limitation\n",
    "        else:\n",
    "            self.limitation = tf.Variable(\"None\", validate_shape=False, name=\"limitation\", trainable=False)\n",
    "            self.limitation = limitation\n",
    "\n",
    "        self.phi_max = tf.Variable(phi_max, validate_shape=False, name=\"phi_max\", trainable=False)\n",
    "        assert self.phi_max.numpy() >= 0.0\n",
    "\n",
    "    def build(self, input_dim):\n",
    "        self.input_dim = input_dim\n",
    "        self.phi = self.add_weight(\"phi\",\n",
    "                                   shape=[int(input_dim[-1])])\n",
    "        super(Modulation, self).build(input_dim)\n",
    "\n",
    "    @tf.function\n",
    "    def get_limited_phi(self):\n",
    "        if self.limitation == 'sigmoid':\n",
    "            return self.phi_max * tf.sigmoid(self.phi)\n",
    "        else:\n",
    "            return self.phi\n",
    "\n",
    "    def get_config(self):\n",
    "        config = super().get_config()\n",
    "        config.update({\n",
    "            \"limitation\": self.limitation,\n",
    "            \"phi_max\": self.phi_max.numpy()\n",
    "        })\n",
    "        return config\n",
    "\n",
    "    @classmethod\n",
    "    def from_config(cls, config):\n",
    "        return cls(**config)\n",
    "\n",
    "    @tf.function\n",
    "    def call(self, x):\n",
    "        phi = self.get_limited_phi()\n",
    "        return x * tf.complex(tf.cos(phi), tf.sin(phi))"
   ],
   "metadata": {
    "collapsed": false,
    "pycharm": {
     "name": "#%%\n"
    }
   }
  },
  {
   "cell_type": "code",
   "execution_count": 2,
   "outputs": [],
   "source": [
    "mnist = tf.keras.datasets.mnist\n",
    "\n",
    "(x_train, y_train), (x_test, y_test) = mnist.load_data()\n",
    "x_train = x_train / 255.0\n",
    "x_test = x_test / 255.0"
   ],
   "metadata": {
    "collapsed": false,
    "pycharm": {
     "name": "#%%\n"
    }
   }
  },
  {
   "cell_type": "code",
   "execution_count": 3,
   "outputs": [],
   "source": [
    "#@title デフォルトのタイトル テキスト\n",
    "wavelength = 800.0e-9 #@param {type:\"number\"}\n",
    "d = 0.5e-6 #@param {type:\"number\"}\n",
    "n = 1.0 #@param {type:\"number\"}"
   ],
   "metadata": {
    "collapsed": false,
    "pycharm": {
     "name": "#%%\n"
    }
   }
  },
  {
   "cell_type": "code",
   "execution_count": 23,
   "outputs": [],
   "source": [
    "def create_model(**kwargs):\n",
    "    inputs = tf.keras.Input((28, 28))\n",
    "    x = ImageResizing([14, 14])(inputs)\n",
    "    x = ImageTo1D()(x)\n",
    "    x = IntensityToElectricField()(x)\n",
    "    x = Modulation()(x)\n",
    "    x = AngularSpectrum(wavelength=wavelength, z=50.0e-6, d=d, n=n, method=\"expand\")(x)\n",
    "    x = Modulation()(x)\n",
    "    x = AngularSpectrum(wavelength=wavelength, z=50.0e-6, d=d, n=n, method=\"expand\")(x)\n",
    "    x = ElectricFieldToIntensity()(x)\n",
    "    x = Detector(10, padding=0.2)(x)\n",
    "    model = tf.keras.Model(inputs, x)\n",
    "    return model"
   ],
   "metadata": {
    "collapsed": false,
    "pycharm": {
     "name": "#%%\n"
    }
   }
  },
  {
   "cell_type": "code",
   "execution_count": 6,
   "outputs": [
    {
     "name": "stdout",
     "output_type": "stream",
     "text": [
      "Metal device set to: Apple M1\n"
     ]
    },
    {
     "name": "stderr",
     "output_type": "stream",
     "text": [
      "2022-06-04 08:12:56.985195: I tensorflow/core/common_runtime/pluggable_device/pluggable_device_factory.cc:305] Could not identify NUMA node of platform GPU ID 0, defaulting to 0. Your kernel may not have been built with NUMA support.\n",
      "2022-06-04 08:12:56.985309: I tensorflow/core/common_runtime/pluggable_device/pluggable_device_factory.cc:271] Created TensorFlow device (/job:localhost/replica:0/task:0/device:GPU:0 with 0 MB memory) -> physical PluggableDevice (device: 0, name: METAL, pci bus id: <undefined>)\n"
     ]
    },
    {
     "name": "stdout",
     "output_type": "stream",
     "text": [
      "Model: \"model\"\n",
      "_________________________________________________________________\n",
      " Layer (type)                Output Shape              Param #   \n",
      "=================================================================\n",
      " input_1 (InputLayer)        [(None, 28, 28)]          0         \n",
      "                                                                 \n",
      " image_resizing (ImageResizi  (None, 14, 14)           0         \n",
      " ng)                                                             \n",
      "                                                                 \n",
      " image_to1d (ImageTo1D)      (None, 196)               0         \n",
      "                                                                 \n",
      " intensity_to_electric_field  (None, 196)              0         \n",
      "  (IntensityToElectricField)                                     \n",
      "                                                                 \n",
      " modulation (Modulation)     (None, 196)               197       \n",
      "                                                                 \n",
      " angular_spectrum (AngularSp  (None, 196)              5         \n",
      " ectrum)                                                         \n",
      "                                                                 \n",
      " modulation_1 (Modulation)   (None, 196)               197       \n",
      "                                                                 \n",
      " angular_spectrum_1 (Angular  (None, 196)              5         \n",
      " Spectrum)                                                       \n",
      "                                                                 \n",
      " electric_field_to_intensity  (None, 196)              0         \n",
      "  (ElectricFieldToIntensity)                                     \n",
      "                                                                 \n",
      " detector (Detector)         (None, 10)                0         \n",
      "                                                                 \n",
      "=================================================================\n",
      "Total params: 404\n",
      "Trainable params: 392\n",
      "Non-trainable params: 12\n",
      "_________________________________________________________________\n",
      "Epoch 1/30\n"
     ]
    },
    {
     "name": "stderr",
     "output_type": "stream",
     "text": [
      "2022-06-04 08:12:57.508098: W tensorflow/core/platform/profile_utils/cpu_utils.cc:128] Failed to get CPU frequency: 0 Hz\n",
      "2022-06-04 08:12:57.690449: I tensorflow/core/grappler/optimizers/custom_graph_optimizer_registry.cc:113] Plugin optimizer for device_type GPU is enabled.\n"
     ]
    },
    {
     "name": "stdout",
     "output_type": "stream",
     "text": [
      "938/938 [==============================] - ETA: 0s - loss: 2.1287 - accuracy: 0.2075"
     ]
    },
    {
     "name": "stderr",
     "output_type": "stream",
     "text": [
      "2022-06-04 08:13:37.321509: I tensorflow/core/grappler/optimizers/custom_graph_optimizer_registry.cc:113] Plugin optimizer for device_type GPU is enabled.\n"
     ]
    },
    {
     "name": "stdout",
     "output_type": "stream",
     "text": [
      "938/938 [==============================] - 43s 45ms/step - loss: 2.1287 - accuracy: 0.2075 - val_loss: 2.0070 - val_accuracy: 0.2173\n",
      "Epoch 2/30\n",
      "938/938 [==============================] - 42s 45ms/step - loss: 1.8950 - accuracy: 0.2750 - val_loss: 1.7786 - val_accuracy: 0.3740\n",
      "Epoch 3/30\n",
      "938/938 [==============================] - 42s 45ms/step - loss: 1.7118 - accuracy: 0.4782 - val_loss: 1.6386 - val_accuracy: 0.5851\n",
      "Epoch 4/30\n",
      "938/938 [==============================] - 43s 46ms/step - loss: 1.5999 - accuracy: 0.6206 - val_loss: 1.5415 - val_accuracy: 0.6804\n",
      "Epoch 5/30\n",
      "938/938 [==============================] - 42s 45ms/step - loss: 1.5296 - accuracy: 0.6852 - val_loss: 1.4927 - val_accuracy: 0.7137\n",
      "Epoch 6/30\n",
      "938/938 [==============================] - 43s 46ms/step - loss: 1.4965 - accuracy: 0.7055 - val_loss: 1.4681 - val_accuracy: 0.7205\n",
      "Epoch 7/30\n",
      "938/938 [==============================] - 42s 45ms/step - loss: 1.4768 - accuracy: 0.7140 - val_loss: 1.4506 - val_accuracy: 0.7328\n",
      "Epoch 8/30\n",
      "938/938 [==============================] - 43s 46ms/step - loss: 1.4623 - accuracy: 0.7197 - val_loss: 1.4382 - val_accuracy: 0.7372\n",
      "Epoch 9/30\n",
      "938/938 [==============================] - 42s 45ms/step - loss: 1.4528 - accuracy: 0.7242 - val_loss: 1.4313 - val_accuracy: 0.7418\n",
      "Epoch 10/30\n",
      "938/938 [==============================] - 43s 45ms/step - loss: 1.4469 - accuracy: 0.7289 - val_loss: 1.4267 - val_accuracy: 0.7432\n",
      "Epoch 11/30\n",
      "938/938 [==============================] - 42s 45ms/step - loss: 1.4428 - accuracy: 0.7306 - val_loss: 1.4233 - val_accuracy: 0.7473\n",
      "Epoch 12/30\n",
      "938/938 [==============================] - 42s 45ms/step - loss: 1.4396 - accuracy: 0.7333 - val_loss: 1.4203 - val_accuracy: 0.7501\n",
      "Epoch 13/30\n",
      "938/938 [==============================] - 43s 46ms/step - loss: 1.4367 - accuracy: 0.7365 - val_loss: 1.4175 - val_accuracy: 0.7515\n",
      "Epoch 14/30\n",
      "938/938 [==============================] - 43s 46ms/step - loss: 1.4337 - accuracy: 0.7380 - val_loss: 1.4144 - val_accuracy: 0.7552\n",
      "Epoch 15/30\n",
      "938/938 [==============================] - 43s 46ms/step - loss: 1.4301 - accuracy: 0.7420 - val_loss: 1.4106 - val_accuracy: 0.7563\n",
      "Epoch 16/30\n",
      "938/938 [==============================] - 43s 46ms/step - loss: 1.4258 - accuracy: 0.7446 - val_loss: 1.4059 - val_accuracy: 0.7602\n",
      "Epoch 17/30\n",
      "938/938 [==============================] - 43s 45ms/step - loss: 1.4213 - accuracy: 0.7493 - val_loss: 1.4017 - val_accuracy: 0.7621\n",
      "Epoch 18/30\n",
      "938/938 [==============================] - 43s 46ms/step - loss: 1.4173 - accuracy: 0.7509 - val_loss: 1.3978 - val_accuracy: 0.7646\n",
      "Epoch 19/30\n",
      "938/938 [==============================] - 42s 45ms/step - loss: 1.4140 - accuracy: 0.7514 - val_loss: 1.3950 - val_accuracy: 0.7654\n",
      "Epoch 20/30\n",
      "938/938 [==============================] - 42s 45ms/step - loss: 1.4113 - accuracy: 0.7519 - val_loss: 1.3924 - val_accuracy: 0.7679\n",
      "Epoch 21/30\n",
      "938/938 [==============================] - 42s 45ms/step - loss: 1.4091 - accuracy: 0.7524 - val_loss: 1.3903 - val_accuracy: 0.7665\n",
      "Epoch 22/30\n",
      "938/938 [==============================] - 42s 45ms/step - loss: 1.4072 - accuracy: 0.7533 - val_loss: 1.3888 - val_accuracy: 0.7679\n",
      "Epoch 23/30\n",
      "938/938 [==============================] - 42s 45ms/step - loss: 1.4056 - accuracy: 0.7542 - val_loss: 1.3874 - val_accuracy: 0.7697\n",
      "Epoch 24/30\n",
      "938/938 [==============================] - 42s 45ms/step - loss: 1.4042 - accuracy: 0.7548 - val_loss: 1.3857 - val_accuracy: 0.7701\n",
      "Epoch 25/30\n",
      "938/938 [==============================] - 42s 45ms/step - loss: 1.4029 - accuracy: 0.7553 - val_loss: 1.3848 - val_accuracy: 0.7727\n",
      "Epoch 26/30\n",
      "938/938 [==============================] - 43s 45ms/step - loss: 1.4017 - accuracy: 0.7564 - val_loss: 1.3833 - val_accuracy: 0.7720\n",
      "Epoch 27/30\n",
      "938/938 [==============================] - 43s 46ms/step - loss: 1.4006 - accuracy: 0.7564 - val_loss: 1.3818 - val_accuracy: 0.7721\n",
      "Epoch 28/30\n",
      "938/938 [==============================] - 43s 46ms/step - loss: 1.3996 - accuracy: 0.7571 - val_loss: 1.3808 - val_accuracy: 0.7718\n",
      "Epoch 29/30\n",
      "938/938 [==============================] - 42s 45ms/step - loss: 1.3987 - accuracy: 0.7576 - val_loss: 1.3800 - val_accuracy: 0.7748\n",
      "Epoch 30/30\n",
      "938/938 [==============================] - 42s 45ms/step - loss: 1.3977 - accuracy: 0.7585 - val_loss: 1.3789 - val_accuracy: 0.7748\n"
     ]
    }
   ],
   "source": [
    "model = create_model()\n",
    "model.summary()\n",
    "model.compile(optimizer=tf.keras.optimizers.Adam(),\n",
    "              loss=tf.keras.losses.sparse_categorical_crossentropy,  # category: sparse_categorical_crossentropy\n",
    "              metrics=['accuracy'])\n",
    "\n",
    "epochs = 30\n",
    "early_stopping = tf.keras.callbacks.EarlyStopping(\n",
    "    monitor='accuracy',\n",
    "    min_delta=0.05,\n",
    "    patience=2,\n",
    ")\n",
    "\n",
    "model_name = \"20220408_\" + str(i + 1)\n",
    "cholab_path = \"/content/drive/MyDrive/D2NN/\"\n",
    "checkpoint_path = cholab_path + \"checkpoint/\" + model_name + \"/cp-{epoch:04d}.ckpt\"\n",
    "checkpoint_dir = os.path.dirname(checkpoint_path)\n",
    "\n",
    "# チェックポイントコールバックを作る\n",
    "cp_callback = tf.keras.callbacks.ModelCheckpoint(checkpoint_path,\n",
    "                                                 save_weights_only=True,\n",
    "                                                 verbose=1)\n",
    "\n",
    "result = model.fit(x_train,\n",
    "                   y_train,\n",
    "                   batch_size=64,\n",
    "                   epochs=epochs,\n",
    "                   validation_data=(x_test, y_test),\n",
    "                   callbacks=[cp_callback]\n",
    "                   )\n",
    "\n",
    "path = cholab_path + \"trained_model/\"+ model_name\n",
    "model.save(path)\n",
    "\n",
    "df = pd.DataFrame(result.history)\n",
    "df.to_csv(path + \"/history.csv\")"
   ],
   "metadata": {
    "collapsed": false,
    "pycharm": {
     "name": "#%%\n"
    }
   }
  },
  {
   "cell_type": "code",
   "execution_count": 26,
   "outputs": [
    {
     "name": "stdout",
     "output_type": "stream",
     "text": [
      "WARNING:tensorflow:Compiled the loaded model, but the compiled metrics have yet to be built. `model.compile_metrics` will be empty until you train or evaluate the model.\n",
      "INFO:tensorflow:Assets written to: trained_model/test/assets\n"
     ]
    }
   ],
   "source": [
    "model = create_model()\n",
    "model.save(\"trained_model/test\")"
   ],
   "metadata": {
    "collapsed": false,
    "pycharm": {
     "name": "#%%\n"
    }
   }
  },
  {
   "cell_type": "code",
   "execution_count": 9,
   "outputs": [],
   "source": [
    "fig = plt.figure(figsize=(6, 6))\n",
    "ax1 = fig.add_subplot(111)\n",
    "ax2 = ax1.twinx()\n",
    "ax1.plot(range(1, epochs + 1), result.history['loss'], color='black', label='Loss')\n",
    "ax1.set_ylabel('Loss')\n",
    "ax1.set_xlabel('epoch')\n",
    "ax2.plot(range(1, epochs + 1), result.history['accuracy'], color='red', label='Accuracy')\n",
    "ax2.set_ylabel('Accuracy')\n",
    "# label1と2には、凡例用に各labelのリスト情報が入る\n",
    "handler1, label1 = ax1.get_legend_handles_labels()\n",
    "handler2, label2 = ax2.get_legend_handles_labels()\n",
    "# 凡例をまとめて出力する\n",
    "ax1.legend(handler1 + handler2, label1 + label2, loc=2, borderaxespad=0.)"
   ],
   "metadata": {
    "collapsed": false,
    "pycharm": {
     "name": "#%%\n"
    }
   }
  },
  {
   "cell_type": "code",
   "execution_count": 11,
   "outputs": [
    {
     "name": "stderr",
     "output_type": "stream",
     "text": [
      "2022-06-04 08:37:49.790385: I tensorflow/core/grappler/optimizers/custom_graph_optimizer_registry.cc:113] Plugin optimizer for device_type GPU is enabled.\n"
     ]
    }
   ],
   "source": [
    "model.evaluate(x_test, y_test)"
   ],
   "metadata": {
    "collapsed": false,
    "pycharm": {
     "name": "#%%\n"
    }
   }
  }
 ],
 "metadata": {
  "kernelspec": {
   "display_name": "Python 3",
   "language": "python",
   "name": "python3"
  },
  "language_info": {
   "codemirror_mode": {
    "name": "ipython",
    "version": 2
   },
   "file_extension": ".py",
   "mimetype": "text/x-python",
   "name": "python",
   "nbconvert_exporter": "python",
   "pygments_lexer": "ipython2",
   "version": "2.7.6"
  }
 },
 "nbformat": 4,
 "nbformat_minor": 0
}
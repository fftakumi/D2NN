{
 "cells": [
  {
   "cell_type": "code",
   "execution_count": 1,
   "outputs": [],
   "source": [
    "import tensorflow as tf\n",
    "import numpy as np\n",
    "import math\n",
    "\n",
    "from module.one_dim.layers import *"
   ],
   "metadata": {
    "collapsed": false,
    "pycharm": {
     "name": "#%%\n"
    }
   }
  },
  {
   "cell_type": "code",
   "execution_count": 2,
   "outputs": [],
   "source": [
    "class Modulation(tf.keras.layers.Layer):\n",
    "    def __init__(self, limitation=None, phi_max=0.0):\n",
    "        super(Modulation, self).__init__()\n",
    "        if limitation is not None:\n",
    "            self.limitation = tf.Variable(limitation, validate_shape=False, name=\"limitation\", trainable=False)\n",
    "            self.limitation = limitation\n",
    "        else:\n",
    "            self.limitation = tf.Variable(\"None\", validate_shape=False, name=\"limitation\", trainable=False)\n",
    "            self.limitation = limitation\n",
    "\n",
    "        self.phi_max = tf.Variable(phi_max, validate_shape=False, name=\"theta_max\", trainable=False)\n",
    "        assert self.phi_max.numpy() >= 0.0\n",
    "\n",
    "    def build(self, input_dim):\n",
    "        self.input_dim = input_dim\n",
    "        self.phi = self.add_weight(\"phi\",\n",
    "                                   shape=[int(input_dim[-1])])\n",
    "        super(Modulation, self).build(input_dim)\n",
    "\n",
    "    @tf.function\n",
    "    def get_limited_phi(self):\n",
    "        if self.limitation == 'sigmoid':\n",
    "            return self.phi_max * tf.sigmoid(self.phi)\n",
    "        else:\n",
    "            return self.phi\n",
    "\n",
    "    def get_config(self):\n",
    "        config = super().get_config()\n",
    "        config.update({\n",
    "            \"limitation\": self.limitation,\n",
    "            \"phi_max\": self.phi_max\n",
    "        })\n",
    "        return config\n",
    "\n",
    "    @classmethod\n",
    "    def from_config(cls, config):\n",
    "        return cls(**config)\n",
    "\n",
    "    @tf.function\n",
    "    def call(self, x):\n",
    "        return x * tf.complex(tf.cos(self.phi), tf.sin(self.phi))\n"
   ],
   "metadata": {
    "collapsed": false,
    "pycharm": {
     "name": "#%%\n"
    }
   }
  },
  {
   "cell_type": "code",
   "execution_count": 11,
   "outputs": [],
   "source": [
    "class ElectricFieldToIntensity(tf.keras.layers.Layer):\n",
    "    def __init__(self):\n",
    "        super(ElectricFieldToIntensity, self).__init__()\n",
    "\n",
    "    def build(self, input_dim):\n",
    "        self.input_dim = input_dim\n",
    "        super(ElectricFieldToIntensity, self).build(input_dim)\n",
    "\n",
    "    def get_config(self):\n",
    "        config = super().get_config()\n",
    "        return config\n",
    "\n",
    "    @classmethod\n",
    "    def from_config(cls, config):\n",
    "        return cls(**config)\n",
    "\n",
    "    @tf.function\n",
    "    def call(self, x):\n",
    "        return tf.abs(x)**2/2"
   ],
   "metadata": {
    "collapsed": false,
    "pycharm": {
     "name": "#%%\n"
    }
   }
  },
  {
   "cell_type": "code",
   "execution_count": 12,
   "outputs": [],
   "source": [
    "shape = (100, 100)\n",
    "inputs = tf.keras.Input(10)\n",
    "x = IntensityToElectricField()(inputs)\n",
    "x = Modulation()(x)\n",
    "x = ElectricFieldToIntensity()(x)\n",
    "\n",
    "model = tf.keras.Model(inputs, x)"
   ],
   "metadata": {
    "collapsed": false,
    "pycharm": {
     "name": "#%%\n"
    }
   }
  },
  {
   "cell_type": "code",
   "execution_count": 14,
   "outputs": [
    {
     "data": {
      "text/plain": "array([[0.99999994, 0.99999994, 1.0000001 , 0.99999994, 0.99999994,\n        0.99999994, 0.99999994, 0.99999994, 0.99999994, 0.99999994],\n       [0.99999994, 0.99999994, 1.0000001 , 0.99999994, 0.99999994,\n        0.99999994, 0.99999994, 0.99999994, 0.99999994, 0.99999994],\n       [0.99999994, 0.99999994, 1.0000001 , 0.99999994, 0.99999994,\n        0.99999994, 0.99999994, 0.99999994, 0.99999994, 0.99999994],\n       [0.99999994, 0.99999994, 1.0000001 , 0.99999994, 0.99999994,\n        0.99999994, 0.99999994, 0.99999994, 0.99999994, 0.99999994],\n       [0.99999994, 0.99999994, 1.0000001 , 0.99999994, 0.99999994,\n        0.99999994, 0.99999994, 0.99999994, 0.99999994, 0.99999994]],\n      dtype=float32)"
     },
     "execution_count": 14,
     "metadata": {},
     "output_type": "execute_result"
    }
   ],
   "source": [
    "one = np.ones((5, 10))\n",
    "pred = model.predict(one)\n",
    "pred"
   ],
   "metadata": {
    "collapsed": false,
    "pycharm": {
     "name": "#%%\n"
    }
   }
  },
  {
   "cell_type": "code",
   "execution_count": 28,
   "outputs": [
    {
     "data": {
      "text/plain": "[array([ 0.21082616,  0.40405482,  0.46338618,  0.5306232 , -0.41534615,\n         0.5390552 ,  0.39568508,  0.0988189 , -0.31008095,  0.2886622 ],\n       dtype=float32),\n 0.0]"
     },
     "execution_count": 28,
     "metadata": {},
     "output_type": "execute_result"
    }
   ],
   "source": [],
   "metadata": {
    "collapsed": false,
    "pycharm": {
     "name": "#%%\n"
    }
   }
  }
 ],
 "metadata": {
  "kernelspec": {
   "display_name": "Python 3",
   "language": "python",
   "name": "python3"
  },
  "language_info": {
   "codemirror_mode": {
    "name": "ipython",
    "version": 2
   },
   "file_extension": ".py",
   "mimetype": "text/x-python",
   "name": "python",
   "nbconvert_exporter": "python",
   "pygments_lexer": "ipython2",
   "version": "2.7.6"
  }
 },
 "nbformat": 4,
 "nbformat_minor": 0
}